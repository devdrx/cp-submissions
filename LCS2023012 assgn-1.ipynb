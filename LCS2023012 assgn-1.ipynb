{
 "cells": [
  {
   "cell_type": "markdown",
   "metadata": {},
   "source": [
    "1. For a given list of numbers write a function to return the largest number in the list"
   ]
  },
  {
   "cell_type": "code",
   "execution_count": 1,
   "metadata": {},
   "outputs": [
    {
     "data": {
      "text/plain": [
       "20"
      ]
     },
     "execution_count": 1,
     "metadata": {},
     "output_type": "execute_result"
    }
   ],
   "source": [
    "num_list = [5, 6, 20, 1, -1, 4, 6]\n",
    "maxi = -1e9\n",
    "for num in num_list:\n",
    "    maxi = max(maxi, num)\n",
    "maxi"
   ]
  },
  {
   "cell_type": "markdown",
   "metadata": {},
   "source": [
    "2. Given a paragraph with a lot of words separated by a space,  return a dictionary with the distinct words as keys and count of each word as the value in the dictionary"
   ]
  },
  {
   "cell_type": "code",
   "execution_count": 2,
   "metadata": {},
   "outputs": [
    {
     "data": {
      "text/plain": [
       "{'Lorem': 1,\n",
       " 'ipsum': 1,\n",
       " 'dolor': 2,\n",
       " 'sit': 1,\n",
       " 'amet,': 1,\n",
       " 'consectetur': 1,\n",
       " 'adipiscing': 1,\n",
       " 'elit,': 1,\n",
       " 'sed': 1,\n",
       " 'do': 1,\n",
       " 'eiusmod': 1,\n",
       " 'tempor': 1,\n",
       " 'incididunt': 1,\n",
       " 'ut': 2,\n",
       " 'labore': 1,\n",
       " 'et': 1,\n",
       " 'dolore': 2,\n",
       " 'magna': 1,\n",
       " 'aliqua.': 1,\n",
       " 'Ut': 1,\n",
       " 'enim': 1,\n",
       " 'ad': 1,\n",
       " 'minim': 1,\n",
       " 'veniam,': 1,\n",
       " 'quis': 1,\n",
       " 'nostrud': 1,\n",
       " 'exercitation': 1,\n",
       " 'ullamco': 1,\n",
       " 'laboris': 1,\n",
       " 'nisi': 1,\n",
       " 'aliquip': 1,\n",
       " 'ex': 1,\n",
       " 'ea': 1,\n",
       " 'commodo': 1,\n",
       " 'consequat.': 1,\n",
       " 'Duis': 1,\n",
       " 'aute': 1,\n",
       " 'irure': 1,\n",
       " 'in': 3,\n",
       " 'reprehenderit': 1,\n",
       " 'voluptate': 1,\n",
       " 'velit': 1,\n",
       " 'esse': 1,\n",
       " 'cillum': 1,\n",
       " 'eu': 1,\n",
       " 'fugiat': 1,\n",
       " 'nulla': 1,\n",
       " 'pariatur.': 1,\n",
       " 'Excepteur': 1,\n",
       " 'sint': 1,\n",
       " 'occaecat': 1,\n",
       " 'cupidatat': 1,\n",
       " 'non': 1,\n",
       " 'proident,': 1,\n",
       " 'sunt': 1,\n",
       " 'culpa': 1,\n",
       " 'qui': 1,\n",
       " 'officia': 1,\n",
       " 'deserunt': 1,\n",
       " 'mollit': 1,\n",
       " 'anim': 1,\n",
       " 'id': 1,\n",
       " 'est': 1,\n",
       " 'laborum.': 1}"
      ]
     },
     "execution_count": 2,
     "metadata": {},
     "output_type": "execute_result"
    }
   ],
   "source": [
    "def word_count(paragraph):\n",
    "    words = paragraph.split()\n",
    "    word_dict = {}\n",
    "    for word in words:\n",
    "        if word in word_dict:\n",
    "            word_dict[word] += 1\n",
    "        else:\n",
    "            word_dict[word] = 1\n",
    "    return word_dict\n",
    "\n",
    "\n",
    "paragraph = \"Lorem ipsum dolor sit amet, consectetur adipiscing elit, sed do eiusmod tempor incididunt ut labore et dolore magna aliqua. Ut enim ad minim veniam, quis nostrud exercitation ullamco laboris nisi ut aliquip ex ea commodo consequat. Duis aute irure dolor in reprehenderit in voluptate velit esse cillum dolore eu fugiat nulla pariatur. Excepteur sint occaecat cupidatat non proident, sunt in culpa qui officia deserunt mollit anim id est laborum.\"\n",
    "\n",
    "word_count(paragraph)"
   ]
  },
  {
   "cell_type": "markdown",
   "metadata": {},
   "source": [
    "3. Given a list of numbers int and float develop a function to compute the average of the numbers, and variance of the numbers"
   ]
  },
  {
   "cell_type": "code",
   "execution_count": 3,
   "metadata": {},
   "outputs": [
    {
     "data": {
      "text/plain": [
       "(3.75, 3.2291666666666665)"
      ]
     },
     "execution_count": 3,
     "metadata": {},
     "output_type": "execute_result"
    }
   ],
   "source": [
    "def compute_stats(numbers):\n",
    "    n = len(numbers)\n",
    "    mean = sum(numbers) / n\n",
    "    variance = sum((x - mean) ** 2 for x in numbers) / n\n",
    "    return mean, variance\n",
    "\n",
    "numbers = [1, 2.5, 3, 4.5, 5, 6.5]\n",
    "mean, variance = compute_stats(numbers)\n",
    "mean, variance"
   ]
  },
  {
   "cell_type": "markdown",
   "metadata": {},
   "source": [
    "4. Given a number n write a function to determine the factorial of the number n"
   ]
  },
  {
   "cell_type": "code",
   "execution_count": 4,
   "metadata": {},
   "outputs": [
    {
     "data": {
      "text/plain": [
       "120"
      ]
     },
     "execution_count": 4,
     "metadata": {},
     "output_type": "execute_result"
    }
   ],
   "source": [
    "def factorial(n):\n",
    "    if n == 0:\n",
    "        return 1\n",
    "    else:\n",
    "        return n * factorial(n-1)\n",
    "\n",
    "n = 5\n",
    "factorial(n)"
   ]
  },
  {
   "cell_type": "markdown",
   "metadata": {},
   "source": [
    "5. Take an input integer n and return the sum of all even numbers from 0 till the number n included"
   ]
  },
  {
   "cell_type": "code",
   "execution_count": 5,
   "metadata": {},
   "outputs": [
    {
     "data": {
      "text/plain": [
       "30"
      ]
     },
     "execution_count": 5,
     "metadata": {},
     "output_type": "execute_result"
    }
   ],
   "source": [
    "def sum_even_numbers(n):\n",
    "    return sum(i for i in range(0, n+1) if i % 2 == 0)\n",
    "\n",
    "n = 10\n",
    "sum_even_numbers(n)"
   ]
  },
  {
   "cell_type": "markdown",
   "metadata": {},
   "source": [
    "6. Return the list of all non prime numbers till a given number n"
   ]
  },
  {
   "cell_type": "code",
   "execution_count": 6,
   "metadata": {},
   "outputs": [
    {
     "data": {
      "text/plain": [
       "[4, 6, 8, 9, 10, 12, 14, 15, 16, 18, 20]"
      ]
     },
     "execution_count": 6,
     "metadata": {},
     "output_type": "execute_result"
    }
   ],
   "source": [
    "def is_prime(num):\n",
    "    if num <= 1:\n",
    "        return False\n",
    "    for i in range(2, int(num**0.5) + 1):\n",
    "        if num % i == 0:\n",
    "            return False\n",
    "    return True\n",
    "\n",
    "def non_prime_numbers(n):\n",
    "    return [i for i in range(2, n+1) if not is_prime(i)]\n",
    "\n",
    "n = 20\n",
    "non_prime_numbers(n)"
   ]
  },
  {
   "cell_type": "markdown",
   "metadata": {},
   "source": [
    "8. Repeat the question 3 assuming a tuple instead of a list"
   ]
  },
  {
   "cell_type": "code",
   "execution_count": 7,
   "metadata": {},
   "outputs": [
    {
     "data": {
      "text/plain": [
       "(3.75, 3.2291666666666665)"
      ]
     },
     "execution_count": 7,
     "metadata": {},
     "output_type": "execute_result"
    }
   ],
   "source": [
    "def compute_stats_tuple(numbers):\n",
    "    n = len(numbers)\n",
    "    mean = sum(numbers) / n\n",
    "    variance = sum((x - mean) ** 2 for x in numbers) / n\n",
    "    return mean, variance\n",
    "\n",
    "numbers_tuple = (1, 2.5, 3, 4.5, 5, 6.5)\n",
    "mean, variance = compute_stats_tuple(numbers_tuple)\n",
    "mean, variance"
   ]
  },
  {
   "cell_type": "markdown",
   "metadata": {},
   "source": [
    "9. Repeat question 4 using while"
   ]
  },
  {
   "cell_type": "code",
   "execution_count": 8,
   "metadata": {},
   "outputs": [
    {
     "data": {
      "text/plain": [
       "120"
      ]
     },
     "execution_count": 8,
     "metadata": {},
     "output_type": "execute_result"
    }
   ],
   "source": [
    "def factorial_while(n):\n",
    "    result = 1\n",
    "    while n > 0:\n",
    "        result *= n\n",
    "        n -= 1\n",
    "    return result\n",
    "\n",
    "n = 5\n",
    "factorial_while(n)"
   ]
  }
 ],
 "metadata": {
  "kernelspec": {
   "display_name": "Python 3",
   "language": "python",
   "name": "python3"
  },
  "language_info": {
   "codemirror_mode": {
    "name": "ipython",
    "version": 3
   },
   "file_extension": ".py",
   "mimetype": "text/x-python",
   "name": "python",
   "nbconvert_exporter": "python",
   "pygments_lexer": "ipython3",
   "version": "3.10.8"
  }
 },
 "nbformat": 4,
 "nbformat_minor": 2
}
